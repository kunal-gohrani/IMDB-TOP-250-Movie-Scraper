{
 "cells": [
  {
   "cell_type": "markdown",
   "metadata": {},
   "source": [
    "## IMDB Top 250 Movies Scraper\n",
    "#### Note:\n",
    "Please run all the cells below, the main() function is located at the bottom of the notebook which scraps data from the link of Top 250 IMDB movies and exports it as a csv file.\n",
    "Made by Kunal N. Gohrani"
   ]
  },
  {
   "cell_type": "code",
   "execution_count": 1,
   "metadata": {},
   "outputs": [
    {
     "data": {
      "application/vnd.jupyter.widget-view+json": {
       "model_id": "43599c3742794f6b9d639c98586d14db",
       "version_major": 2,
       "version_minor": 0
      },
      "text/plain": [
       "Button(description='Run all below', style=ButtonStyle())"
      ]
     },
     "metadata": {},
     "output_type": "display_data"
    }
   ],
   "source": [
    "from IPython.display import Javascript, display\n",
    "from ipywidgets import widgets\n",
    "\n",
    "def run_all(ev):\n",
    "    display(Javascript('IPython.notebook.execute_cell_range(IPython.notebook.get_selected_index()+1, IPython.notebook.ncells())'))\n",
    "\n",
    "button = widgets.Button(description=\"Run all below\")\n",
    "button.on_click(run_all)\n",
    "display(button)"
   ]
  },
  {
   "cell_type": "code",
   "execution_count": 2,
   "metadata": {},
   "outputs": [],
   "source": [
    "# Importing all libraries\n",
    "from bs4 import BeautifulSoup\n",
    "import urllib.request, urllib.parse, urllib.error\n",
    "import re\n",
    "import time\n",
    "import pandas as pd\n",
    "pd.set_option('display.max_rows', 700)\n",
    "pd.set_option('display.max_columns', 500)\n",
    "pd.set_option('display.width', 1000)"
   ]
  },
  {
   "cell_type": "markdown",
   "metadata": {},
   "source": [
    "## 1. Index Extraction function"
   ]
  },
  {
   "cell_type": "code",
   "execution_count": 3,
   "metadata": {},
   "outputs": [],
   "source": [
    "def index_extract(movie):\n",
    "    index_elem=movie.find(class_='lister-item-index unbold text-primary')\n",
    "    \n",
    "    if index_elem is None:\n",
    "        return None\n",
    "    else:\n",
    "        ans=index_elem.text\n",
    "        return int(ans.split('.')[0])"
   ]
  },
  {
   "cell_type": "markdown",
   "metadata": {},
   "source": [
    "## 2. Name Extraction Function"
   ]
  },
  {
   "cell_type": "code",
   "execution_count": 4,
   "metadata": {},
   "outputs": [],
   "source": [
    "def name_extract(movie):\n",
    "    header_elem=movie.find(class_='lister-item-header')\n",
    "    if header_elem is None:\n",
    "        return None\n",
    "    else:\n",
    "        header=header_elem.find('a').text\n",
    "        return header"
   ]
  },
  {
   "cell_type": "markdown",
   "metadata": {},
   "source": [
    "## 3. Year of Release Extraction Function"
   ]
  },
  {
   "cell_type": "code",
   "execution_count": 5,
   "metadata": {},
   "outputs": [],
   "source": [
    "def year_extract(movie):\n",
    "    year_elem=movie.find(class_='lister-item-year text-muted unbold')\n",
    "    ans=re.findall(r'\\((\\d+)\\)',year_elem.text)\n",
    "    if len(ans)<1:\n",
    "        return None\n",
    "    else:\n",
    "        return int(ans[0])"
   ]
  },
  {
   "cell_type": "markdown",
   "metadata": {},
   "source": [
    "## 4. Genre Extraction Function"
   ]
  },
  {
   "cell_type": "code",
   "execution_count": 6,
   "metadata": {},
   "outputs": [],
   "source": [
    "def genre_extract(movie):\n",
    "    ans=movie.find(class_='genre')\n",
    "    if ans is None:\n",
    "        return None\n",
    "    else:\n",
    "        return ans.text.strip().replace('\\n','')"
   ]
  },
  {
   "cell_type": "markdown",
   "metadata": {},
   "source": [
    "## 5. IMDB Rating Extraction Function"
   ]
  },
  {
   "cell_type": "code",
   "execution_count": 7,
   "metadata": {},
   "outputs": [],
   "source": [
    "def imdb_extract(movie):\n",
    "    rating_elem=movie.find(class_='inline-block ratings-imdb-rating')\n",
    "    if rating_elem is None:\n",
    "        return None\n",
    "    else:\n",
    "        rating=rating_elem.find('strong').text\n",
    "        return float(rating)"
   ]
  },
  {
   "cell_type": "markdown",
   "metadata": {},
   "source": [
    "## 6. Metascore Extraction Function"
   ]
  },
  {
   "cell_type": "code",
   "execution_count": 8,
   "metadata": {},
   "outputs": [],
   "source": [
    "def metascore_extract(movie):\n",
    "    temp=movie.find(class_='metascore')\n",
    "    if temp is None:\n",
    "        return None\n",
    "    else:\n",
    "        return str(temp.text.strip())"
   ]
  },
  {
   "cell_type": "markdown",
   "metadata": {},
   "source": [
    "## 7. Summary Extraction Function"
   ]
  },
  {
   "cell_type": "code",
   "execution_count": 9,
   "metadata": {},
   "outputs": [],
   "source": [
    "def summary_extract(movie):\n",
    "    temp=movie.find_all('p',{'class':'text-muted'})\n",
    "    if temp is None:\n",
    "        return None\n",
    "    else:\n",
    "        temp=temp[-1].text\n",
    "        return str(temp.replace('\\n','').strip())"
   ]
  },
  {
   "cell_type": "markdown",
   "metadata": {},
   "source": [
    "## 8. Director and Star Extraction Function"
   ]
  },
  {
   "cell_type": "code",
   "execution_count": 10,
   "metadata": {},
   "outputs": [],
   "source": [
    "def director_and_star_extract(movie):\n",
    "    send=[]\n",
    "    temp=''\n",
    "    director_star_elem=movie.find_all('p',{'class':''})\n",
    "    # made by Kunal N Gohrani\n",
    "    # Director column got no class attribute so need to check if Director word is present or not\n",
    "    for i in director_star_elem:\n",
    "        if 'Director' in i.text:\n",
    "            temp=i.text\n",
    "    temp=temp.replace('\\n','').strip()\n",
    "    # using regular expressions to take out directors and stars\n",
    "    #taking out directors\n",
    "    director=re.findall(r'^Director[s:]*([a-zA-Z0-9 ,.]*)',temp)\n",
    "    if len(director)<1:\n",
    "        send.append(None)\n",
    "    else:\n",
    "        send.append(director[0])\n",
    "    #taking out stars\n",
    "    star=re.findall(r'Star[s:]+([a-zA-Z0-9 ,.]*)',temp)\n",
    "    if len(star)<1:\n",
    "        send.append(None)\n",
    "    else:\n",
    "        send.append(star[0])\n",
    "    return send\n"
   ]
  },
  {
   "cell_type": "markdown",
   "metadata": {},
   "source": [
    "## 9. Votes Extraction Function"
   ]
  },
  {
   "cell_type": "code",
   "execution_count": 11,
   "metadata": {},
   "outputs": [],
   "source": [
    "def votes_extract(movie):\n",
    "    temp=movie.find(class_='sort-num_votes-visible')\n",
    "    temp=temp.text.strip().replace('\\n','')\n",
    "    vote=re.findall(r'Vote[s:]+([0-9,]+)',temp)\n",
    "    if len(vote)<1:\n",
    "        return None\n",
    "    else:\n",
    "        return vote[0]"
   ]
  },
  {
   "cell_type": "markdown",
   "metadata": {},
   "source": [
    "## 10. Gross Extraction Function"
   ]
  },
  {
   "cell_type": "code",
   "execution_count": 12,
   "metadata": {},
   "outputs": [],
   "source": [
    "def gross_extract(movie):\n",
    "    temp=movie.find(class_='sort-num_votes-visible')\n",
    "    temp=temp.text.strip().replace('\\n','')\n",
    "    gross=re.findall(r'Gross:([\\$0-9.,A-Z]+)',temp)\n",
    "    if len(gross)<1:\n",
    "        return None\n",
    "    else:\n",
    "        return gross[0]"
   ]
  },
  {
   "cell_type": "markdown",
   "metadata": {},
   "source": [
    "## 11. Next URL Finder"
   ]
  },
  {
   "cell_type": "code",
   "execution_count": 13,
   "metadata": {},
   "outputs": [],
   "source": [
    "def next_url_fetcher(soup):\n",
    "    link=soup.find(class_='lister-page-next next-page')\n",
    "    if link is None:\n",
    "        return None\n",
    "    else:\n",
    "        link=link.get('href')\n",
    "        link='https://www.imdb.com'+link\n",
    "    return link"
   ]
  },
  {
   "cell_type": "markdown",
   "metadata": {},
   "source": [
    "## 12. URL Fetcher"
   ]
  },
  {
   "cell_type": "code",
   "execution_count": 14,
   "metadata": {},
   "outputs": [],
   "source": [
    "def url_fetcher(url=''):\n",
    "    if url=='':\n",
    "        url='https://www.imdb.com/search/title/?groups=top_250&sort=user_rating,desc&ref_=adv_prv'\n",
    "    user_agent={}\n",
    "    user_agent['Mozila'] = 'Mozilla/5.0 (Windows NT 6.1; Win64; x64)'\n",
    "    user_agent['Android'] = 'Mozilla/5.0 (X11; Ubuntu; Linux x86_64; rv:68.0) Gecko/20100101 Firefox/68.0'\n",
    "    headers={'User-Agent':user_agent['Android'],'Accept-Language': 'en-US,en;q=0.8'}\n",
    "    urlHandle=urllib.request.Request(url,None,headers)\n",
    "    urlHandle=urllib.request.urlopen(urlHandle)\n",
    "    content=urlHandle.read()\n",
    "    return BeautifulSoup(content,'html.parser')"
   ]
  },
  {
   "cell_type": "markdown",
   "metadata": {},
   "source": [
    "## 13. DataFrame Maker and Exporter"
   ]
  },
  {
   "cell_type": "code",
   "execution_count": 15,
   "metadata": {},
   "outputs": [],
   "source": [
    "def DataFrame_Printer_and_Exporter():\n",
    "    data={}\n",
    "    data['Name']=name\n",
    "    data['Year of Release']=year\n",
    "    data['Genre']=genre\n",
    "    data['IMDB Rating']=IMDB_rating\n",
    "    data['Metascore']=metascore\n",
    "    data['Director(s)']=directors\n",
    "    data['Star(s)']=stars\n",
    "    data['Summary']=summary\n",
    "    data['Votes']=votes\n",
    "    data['Gross Earning']=grosses\n",
    "    df = pd.DataFrame(data=data,index=index)\n",
    "    df.to_csv('IMDB.csv')\n",
    "    return df"
   ]
  },
  {
   "cell_type": "markdown",
   "metadata": {},
   "source": [
    "## 14. Main Function"
   ]
  },
  {
   "cell_type": "code",
   "execution_count": 16,
   "metadata": {},
   "outputs": [],
   "source": [
    "# Main Cell Executor\n",
    "index=[]\n",
    "name=[]\n",
    "year=[]\n",
    "genre=[]\n",
    "IMDB_rating=[]\n",
    "metascore=[]\n",
    "summary=[]\n",
    "directors=[]\n",
    "stars=[]\n",
    "votes=[]\n",
    "grosses=[]\n",
    "\n",
    "def main():\n",
    "    wait=input('Enter number of seconds to wait before fetching the next page (default: 25): ')\n",
    "    if wait=='':\n",
    "        wait=25\n",
    "    else:\n",
    "        wait=int(wait)\n",
    "    print('Fetching page')\n",
    "    soup=url_fetcher()\n",
    "    for i in range(1,6):\n",
    "        all_movies=soup.find_all(class_='lister-item-content')\n",
    "        print('Fetching page')\n",
    "        print('Scraping.....')\n",
    "        for movie in all_movies:\n",
    "            # Extracting all information needed by calling related functions and appending\n",
    "            # to related list\n",
    "            index.append(index_extract(movie))\n",
    "            name.append(name_extract(movie))\n",
    "            year.append(year_extract(movie))\n",
    "            genre.append(genre_extract(movie))\n",
    "            IMDB_rating.append(imdb_extract(movie))\n",
    "            metascore.append(metascore_extract(movie))\n",
    "            summary.append(summary_extract(movie))\n",
    "            director_and_star=director_and_star_extract(movie)\n",
    "            directors.append(director_and_star[0])\n",
    "            stars.append(director_and_star[1])\n",
    "            votes.append(votes_extract(movie))\n",
    "            grosses.append(gross_extract(movie))\n",
    "        next_link=next_url_fetcher(soup)\n",
    "        if next_link is None:\n",
    "            print('Scraping completed..Exiting')\n",
    "            break;\n",
    "        print('Scraping completed... sleeping for ',wait,' seconds')\n",
    "        time.sleep(wait)\n",
    "        soup=url_fetcher(next_link)\n",
    "    df=DataFrame_Printer_and_Exporter()\n",
    "    return df"
   ]
  },
  {
   "cell_type": "code",
   "execution_count": 17,
   "metadata": {},
   "outputs": [
    {
     "name": "stdout",
     "output_type": "stream",
     "text": [
      "Enter number of seconds to wait before fetching the next page (default: 25): 15\n",
      "Fetching page\n",
      "Fetching page\n",
      "Scraping.....\n",
      "Scraping completed... sleeping for  15  seconds\n",
      "Fetching page\n",
      "Scraping.....\n",
      "Scraping completed... sleeping for  15  seconds\n",
      "Fetching page\n",
      "Scraping.....\n",
      "Scraping completed... sleeping for  15  seconds\n",
      "Fetching page\n",
      "Scraping.....\n",
      "Scraping completed... sleeping for  15  seconds\n",
      "Fetching page\n",
      "Scraping.....\n",
      "Scraping completed..Exiting\n"
     ]
    }
   ],
   "source": [
    "# Calling main Function, main functions returns the dataframe to be printed below, and also exports a csv file.\n",
    "df=main()"
   ]
  },
  {
   "cell_type": "code",
   "execution_count": 18,
   "metadata": {},
   "outputs": [
    {
     "data": {
      "text/plain": [
       "(250, 10)"
      ]
     },
     "execution_count": 18,
     "metadata": {},
     "output_type": "execute_result"
    }
   ],
   "source": [
    "df.shape"
   ]
  },
  {
   "cell_type": "code",
   "execution_count": 19,
   "metadata": {},
   "outputs": [
    {
     "data": {
      "text/html": [
       "<div>\n",
       "<style scoped>\n",
       "    .dataframe tbody tr th:only-of-type {\n",
       "        vertical-align: middle;\n",
       "    }\n",
       "\n",
       "    .dataframe tbody tr th {\n",
       "        vertical-align: top;\n",
       "    }\n",
       "\n",
       "    .dataframe thead th {\n",
       "        text-align: right;\n",
       "    }\n",
       "</style>\n",
       "<table border=\"1\" class=\"dataframe\">\n",
       "  <thead>\n",
       "    <tr style=\"text-align: right;\">\n",
       "      <th></th>\n",
       "      <th>Name</th>\n",
       "      <th>Year of Release</th>\n",
       "      <th>Genre</th>\n",
       "      <th>IMDB Rating</th>\n",
       "      <th>Metascore</th>\n",
       "      <th>Director(s)</th>\n",
       "      <th>Star(s)</th>\n",
       "      <th>Summary</th>\n",
       "      <th>Votes</th>\n",
       "      <th>Gross Earning</th>\n",
       "    </tr>\n",
       "  </thead>\n",
       "  <tbody>\n",
       "    <tr>\n",
       "      <th>1</th>\n",
       "      <td>The Shawshank Redemption</td>\n",
       "      <td>1994</td>\n",
       "      <td>Drama</td>\n",
       "      <td>9.3</td>\n",
       "      <td>80</td>\n",
       "      <td>Frank Darabont</td>\n",
       "      <td>Tim Robbins, Morgan Freeman, Bob Gunton, Willi...</td>\n",
       "      <td>Two imprisoned men bond over a number of years...</td>\n",
       "      <td>2,123,733</td>\n",
       "      <td>$28.34M</td>\n",
       "    </tr>\n",
       "    <tr>\n",
       "      <th>2</th>\n",
       "      <td>The Godfather</td>\n",
       "      <td>1972</td>\n",
       "      <td>Crime, Drama</td>\n",
       "      <td>9.2</td>\n",
       "      <td>100</td>\n",
       "      <td>Francis Ford Coppola</td>\n",
       "      <td>Marlon Brando, Al Pacino, James Caan, Diane Ke...</td>\n",
       "      <td>The aging patriarch of an organized crime dyna...</td>\n",
       "      <td>1,458,140</td>\n",
       "      <td>$134.97M</td>\n",
       "    </tr>\n",
       "    <tr>\n",
       "      <th>3</th>\n",
       "      <td>The Dark Knight</td>\n",
       "      <td>2008</td>\n",
       "      <td>Action, Crime, Drama</td>\n",
       "      <td>9.0</td>\n",
       "      <td>84</td>\n",
       "      <td>Christopher Nolan</td>\n",
       "      <td>Christian Bale, Heath Ledger, Aaron Eckhart, M...</td>\n",
       "      <td>When the menace known as The Joker emerges fro...</td>\n",
       "      <td>2,088,869</td>\n",
       "      <td>$534.86M</td>\n",
       "    </tr>\n",
       "    <tr>\n",
       "      <th>4</th>\n",
       "      <td>The Godfather: Part II</td>\n",
       "      <td>1974</td>\n",
       "      <td>Crime, Drama</td>\n",
       "      <td>9.0</td>\n",
       "      <td>90</td>\n",
       "      <td>Francis Ford Coppola</td>\n",
       "      <td>Al Pacino, Robert De Niro, Robert Duvall, Dian...</td>\n",
       "      <td>The early life and career of Vito Corleone in ...</td>\n",
       "      <td>1,014,144</td>\n",
       "      <td>$57.30M</td>\n",
       "    </tr>\n",
       "    <tr>\n",
       "      <th>5</th>\n",
       "      <td>The Lord of the Rings: The Return of the King</td>\n",
       "      <td>2003</td>\n",
       "      <td>Adventure, Drama, Fantasy</td>\n",
       "      <td>8.9</td>\n",
       "      <td>94</td>\n",
       "      <td>Peter Jackson</td>\n",
       "      <td>Elijah Wood, Viggo Mortensen, Ian McKellen, Or...</td>\n",
       "      <td>Gandalf and Aragorn lead the World of Men agai...</td>\n",
       "      <td>1,511,063</td>\n",
       "      <td>$377.85M</td>\n",
       "    </tr>\n",
       "  </tbody>\n",
       "</table>\n",
       "</div>"
      ],
      "text/plain": [
       "                                            Name  Year of Release                      Genre  IMDB Rating Metascore           Director(s)                                            Star(s)                                            Summary      Votes Gross Earning\n",
       "1                       The Shawshank Redemption             1994                      Drama          9.3        80        Frank Darabont  Tim Robbins, Morgan Freeman, Bob Gunton, Willi...  Two imprisoned men bond over a number of years...  2,123,733       $28.34M\n",
       "2                                  The Godfather             1972               Crime, Drama          9.2       100  Francis Ford Coppola  Marlon Brando, Al Pacino, James Caan, Diane Ke...  The aging patriarch of an organized crime dyna...  1,458,140      $134.97M\n",
       "3                                The Dark Knight             2008       Action, Crime, Drama          9.0        84     Christopher Nolan  Christian Bale, Heath Ledger, Aaron Eckhart, M...  When the menace known as The Joker emerges fro...  2,088,869      $534.86M\n",
       "4                         The Godfather: Part II             1974               Crime, Drama          9.0        90  Francis Ford Coppola  Al Pacino, Robert De Niro, Robert Duvall, Dian...  The early life and career of Vito Corleone in ...  1,014,144       $57.30M\n",
       "5  The Lord of the Rings: The Return of the King             2003  Adventure, Drama, Fantasy          8.9        94         Peter Jackson  Elijah Wood, Viggo Mortensen, Ian McKellen, Or...  Gandalf and Aragorn lead the World of Men agai...  1,511,063      $377.85M"
      ]
     },
     "execution_count": 19,
     "metadata": {},
     "output_type": "execute_result"
    }
   ],
   "source": [
    "df.head()"
   ]
  },
  {
   "cell_type": "code",
   "execution_count": null,
   "metadata": {},
   "outputs": [],
   "source": []
  }
 ],
 "metadata": {
  "kernelspec": {
   "display_name": "Python 3",
   "language": "python",
   "name": "python3"
  },
  "language_info": {
   "codemirror_mode": {
    "name": "ipython",
    "version": 3
   },
   "file_extension": ".py",
   "mimetype": "text/x-python",
   "name": "python",
   "nbconvert_exporter": "python",
   "pygments_lexer": "ipython3",
   "version": "3.7.3"
  },
  "widgets": {
   "application/vnd.jupyter.widget-state+json": {
    "state": {
     "1460a17902af488b8591dfd08f4f9474": {
      "model_module": "@jupyter-widgets/controls",
      "model_module_version": "1.5.0",
      "model_name": "ButtonModel",
      "state": {
       "description": "Run all below",
       "layout": "IPY_MODEL_63d959b509244c9796e2036b75deed4e",
       "style": "IPY_MODEL_26cdde80c11049f39278181a911f389b"
      }
     },
     "26cdde80c11049f39278181a911f389b": {
      "model_module": "@jupyter-widgets/controls",
      "model_module_version": "1.5.0",
      "model_name": "ButtonStyleModel",
      "state": {}
     },
     "63d959b509244c9796e2036b75deed4e": {
      "model_module": "@jupyter-widgets/base",
      "model_module_version": "1.2.0",
      "model_name": "LayoutModel",
      "state": {}
     }
    },
    "version_major": 2,
    "version_minor": 0
   }
  }
 },
 "nbformat": 4,
 "nbformat_minor": 2
}
